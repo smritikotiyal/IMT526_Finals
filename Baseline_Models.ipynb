{
  "cells": [
    {
      "cell_type": "markdown",
      "source": [
        "## Baseline Models: Naive Bayes and Logistic Regression"
      ],
      "metadata": {
        "id": "6rPCW2mtxwKo"
      }
    },
    {
      "cell_type": "markdown",
      "metadata": {
        "id": "jzJ4JcjNzbzb"
      },
      "source": [
        "### Step 1: Load CSV and Filter Five Major Banks\n",
        "\n",
        "We begin by loading the full complaint dataset and filtering only the following five banks, which have more balanced label distributions for 'Company response to consumer':\n",
        "\n",
        "- BANK OF AMERICA, NATIONAL ASSOCIATION  \n",
        "- JPMORGAN CHASE & CO.  \n",
        "- CAPITAL ONE FINANCIAL CORPORATION  \n",
        "- CITIBANK, N.A.  \n",
        "- WELLS FARGO & COMPANY"
      ]
    },
    {
      "cell_type": "code",
      "execution_count": 1,
      "metadata": {
        "colab": {
          "base_uri": "https://localhost:8080/"
        },
        "id": "Tkl8C9kizbzc",
        "outputId": "2183607e-98b0-4a83-ae42-d0521fb3adc9"
      },
      "outputs": [
        {
          "output_type": "stream",
          "name": "stdout",
          "text": [
            "Filtered dataset shape: (110168, 18)\n",
            "Unique banks: ['CITIBANK, N.A.']\n"
          ]
        }
      ],
      "source": [
        "import pandas as pd\n",
        "import numpy as np\n",
        "\n",
        "# Load the full complaints dataset\n",
        "file_path = '/content/complaints_selected_five_banks.csv'\n",
        "df = pd.read_csv(file_path)\n",
        "\n",
        "# Standardize column names\n",
        "df.columns = df.columns.str.strip().str.lower().str.replace(' ', '_')\n",
        "\n",
        "# Define the 5-bank list\n",
        "target_banks = [\n",
        " #   'BANK OF AMERICA, NATIONAL ASSOCIATION',\n",
        " #   'JPMORGAN CHASE & CO.',\n",
        " #   'CAPITAL ONE FINANCIAL CORPORATION',\n",
        "    'CITIBANK, N.A.'\n",
        " #   ,'WELLS FARGO & COMPANY'\n",
        "]\n",
        "\n",
        "# Filter only the selected banks\n",
        "df_banks = df[df['company'].isin(target_banks)].copy()\n",
        "\n",
        "# Check results\n",
        "print(\"Filtered dataset shape:\", df_banks.shape)\n",
        "print(\"Unique banks:\", df_banks['company'].unique())"
      ]
    },
    {
      "cell_type": "markdown",
      "metadata": {
        "id": "IfIJS6r5zbzc"
      },
      "source": [
        "### Step 2: Initial Quality Check\n",
        "\n",
        "We check for missing values and label distribution to ensure our model will be learning from clean, relevant data. This also helps assess balance between response types."
      ]
    },
    {
      "cell_type": "code",
      "execution_count": 2,
      "metadata": {
        "colab": {
          "base_uri": "https://localhost:8080/"
        },
        "id": "jey9XK0rzbzc",
        "outputId": "ee4fb2cd-0c14-45b7-845f-c630871ef609"
      },
      "outputs": [
        {
          "output_type": "stream",
          "name": "stdout",
          "text": [
            "Missing values per column:\n",
            "date_received                       0\n",
            "product                             0\n",
            "sub-product                     17114\n",
            "issue                               0\n",
            "sub-issue                       35104\n",
            "consumer_complaint_narrative    65198\n",
            "company_public_response         20703\n",
            "company                             0\n",
            "state                            1719\n",
            "zip_code                         1000\n",
            "tags                            92540\n",
            "consumer_consent_provided?      34876\n",
            "submitted_via                       0\n",
            "date_sent_to_company                0\n",
            "company_response_to_consumer        1\n",
            "timely_response?                    0\n",
            "consumer_disputed?              75400\n",
            "complaint_id                        0\n",
            "dtype: int64\n",
            "\n",
            "Distribution of 'company_response_to_consumer':\n",
            "company_response_to_consumer\n",
            "Closed with explanation            71739\n",
            "Closed with monetary relief        19030\n",
            "Closed with non-monetary relief    17043\n",
            "Closed without relief               1347\n",
            "Closed with relief                   681\n",
            "Closed                               176\n",
            "In progress                           81\n",
            "Untimely response                     70\n",
            "Name: count, dtype: int64\n"
          ]
        }
      ],
      "source": [
        "# Check null values\n",
        "print(\"Missing values per column:\")\n",
        "print(df_banks.isnull().sum())\n",
        "\n",
        "# Check label distribution\n",
        "print(\"\\nDistribution of 'company_response_to_consumer':\")\n",
        "print(df_banks['company_response_to_consumer'].value_counts())"
      ]
    },
    {
      "cell_type": "markdown",
      "metadata": {
        "id": "47OTDzgqzbzc"
      },
      "source": [
        "### Step 3: Count and Ratio of Complaint Narratives by Company and Response Type\n",
        "\n",
        "We compute the following for each (`company`, `company_response_to_consumer`) group:\n",
        "- Total complaint count\n",
        "- Number of complaints with a narrative\n",
        "- Ratio of narrative presence\n",
        "- Percentage that each response type makes up within a company\n",
        "\n",
        "We also visualize the result with company-wise spacing to improve readability."
      ]
    },
    {
      "cell_type": "code",
      "execution_count": 3,
      "metadata": {
        "colab": {
          "base_uri": "https://localhost:8080/",
          "height": 459
        },
        "id": "GNdVWrPCzbzd",
        "outputId": "90fdc0d3-43b9-47f7-c112-1e95f5de7b88"
      },
      "outputs": [
        {
          "output_type": "display_data",
          "data": {
            "text/plain": [
              "          company     company_response_to_consumer  total_complaints  \\\n",
              "1  CITIBANK, N.A.          Closed with explanation             71739   \n",
              "2  CITIBANK, N.A.      Closed with monetary relief             19030   \n",
              "3  CITIBANK, N.A.  Closed with non-monetary relief             17043   \n",
              "5  CITIBANK, N.A.            Closed without relief              1347   \n",
              "4  CITIBANK, N.A.               Closed with relief               681   \n",
              "0  CITIBANK, N.A.                           Closed               176   \n",
              "6  CITIBANK, N.A.                      In progress                81   \n",
              "7  CITIBANK, N.A.                Untimely response                70   \n",
              "\n",
              "   narrative_count  narrative_ratio  response_ratio_within_company  \n",
              "1            29083             0.41                           0.65  \n",
              "2             8662             0.46                           0.17  \n",
              "3             7203             0.42                           0.15  \n",
              "5                0             0.00                           0.01  \n",
              "4                0             0.00                           0.01  \n",
              "0               13             0.07                           0.00  \n",
              "6                9             0.11                           0.00  \n",
              "7                0             0.00                           0.00  "
            ],
            "text/html": [
              "\n",
              "  <div id=\"df-fad64e13-502b-4681-95f7-8ec6e628bc2e\" class=\"colab-df-container\">\n",
              "    <div>\n",
              "<style scoped>\n",
              "    .dataframe tbody tr th:only-of-type {\n",
              "        vertical-align: middle;\n",
              "    }\n",
              "\n",
              "    .dataframe tbody tr th {\n",
              "        vertical-align: top;\n",
              "    }\n",
              "\n",
              "    .dataframe thead th {\n",
              "        text-align: right;\n",
              "    }\n",
              "</style>\n",
              "<table border=\"1\" class=\"dataframe\">\n",
              "  <thead>\n",
              "    <tr style=\"text-align: right;\">\n",
              "      <th></th>\n",
              "      <th>company</th>\n",
              "      <th>company_response_to_consumer</th>\n",
              "      <th>total_complaints</th>\n",
              "      <th>narrative_count</th>\n",
              "      <th>narrative_ratio</th>\n",
              "      <th>response_ratio_within_company</th>\n",
              "    </tr>\n",
              "  </thead>\n",
              "  <tbody>\n",
              "    <tr>\n",
              "      <th>1</th>\n",
              "      <td>CITIBANK, N.A.</td>\n",
              "      <td>Closed with explanation</td>\n",
              "      <td>71739</td>\n",
              "      <td>29083</td>\n",
              "      <td>0.41</td>\n",
              "      <td>0.65</td>\n",
              "    </tr>\n",
              "    <tr>\n",
              "      <th>2</th>\n",
              "      <td>CITIBANK, N.A.</td>\n",
              "      <td>Closed with monetary relief</td>\n",
              "      <td>19030</td>\n",
              "      <td>8662</td>\n",
              "      <td>0.46</td>\n",
              "      <td>0.17</td>\n",
              "    </tr>\n",
              "    <tr>\n",
              "      <th>3</th>\n",
              "      <td>CITIBANK, N.A.</td>\n",
              "      <td>Closed with non-monetary relief</td>\n",
              "      <td>17043</td>\n",
              "      <td>7203</td>\n",
              "      <td>0.42</td>\n",
              "      <td>0.15</td>\n",
              "    </tr>\n",
              "    <tr>\n",
              "      <th>5</th>\n",
              "      <td>CITIBANK, N.A.</td>\n",
              "      <td>Closed without relief</td>\n",
              "      <td>1347</td>\n",
              "      <td>0</td>\n",
              "      <td>0.00</td>\n",
              "      <td>0.01</td>\n",
              "    </tr>\n",
              "    <tr>\n",
              "      <th>4</th>\n",
              "      <td>CITIBANK, N.A.</td>\n",
              "      <td>Closed with relief</td>\n",
              "      <td>681</td>\n",
              "      <td>0</td>\n",
              "      <td>0.00</td>\n",
              "      <td>0.01</td>\n",
              "    </tr>\n",
              "    <tr>\n",
              "      <th>0</th>\n",
              "      <td>CITIBANK, N.A.</td>\n",
              "      <td>Closed</td>\n",
              "      <td>176</td>\n",
              "      <td>13</td>\n",
              "      <td>0.07</td>\n",
              "      <td>0.00</td>\n",
              "    </tr>\n",
              "    <tr>\n",
              "      <th>6</th>\n",
              "      <td>CITIBANK, N.A.</td>\n",
              "      <td>In progress</td>\n",
              "      <td>81</td>\n",
              "      <td>9</td>\n",
              "      <td>0.11</td>\n",
              "      <td>0.00</td>\n",
              "    </tr>\n",
              "    <tr>\n",
              "      <th>7</th>\n",
              "      <td>CITIBANK, N.A.</td>\n",
              "      <td>Untimely response</td>\n",
              "      <td>70</td>\n",
              "      <td>0</td>\n",
              "      <td>0.00</td>\n",
              "      <td>0.00</td>\n",
              "    </tr>\n",
              "  </tbody>\n",
              "</table>\n",
              "</div>\n",
              "    <div class=\"colab-df-buttons\">\n",
              "\n",
              "  <div class=\"colab-df-container\">\n",
              "    <button class=\"colab-df-convert\" onclick=\"convertToInteractive('df-fad64e13-502b-4681-95f7-8ec6e628bc2e')\"\n",
              "            title=\"Convert this dataframe to an interactive table.\"\n",
              "            style=\"display:none;\">\n",
              "\n",
              "  <svg xmlns=\"http://www.w3.org/2000/svg\" height=\"24px\" viewBox=\"0 -960 960 960\">\n",
              "    <path d=\"M120-120v-720h720v720H120Zm60-500h600v-160H180v160Zm220 220h160v-160H400v160Zm0 220h160v-160H400v160ZM180-400h160v-160H180v160Zm440 0h160v-160H620v160ZM180-180h160v-160H180v160Zm440 0h160v-160H620v160Z\"/>\n",
              "  </svg>\n",
              "    </button>\n",
              "\n",
              "  <style>\n",
              "    .colab-df-container {\n",
              "      display:flex;\n",
              "      gap: 12px;\n",
              "    }\n",
              "\n",
              "    .colab-df-convert {\n",
              "      background-color: #E8F0FE;\n",
              "      border: none;\n",
              "      border-radius: 50%;\n",
              "      cursor: pointer;\n",
              "      display: none;\n",
              "      fill: #1967D2;\n",
              "      height: 32px;\n",
              "      padding: 0 0 0 0;\n",
              "      width: 32px;\n",
              "    }\n",
              "\n",
              "    .colab-df-convert:hover {\n",
              "      background-color: #E2EBFA;\n",
              "      box-shadow: 0px 1px 2px rgba(60, 64, 67, 0.3), 0px 1px 3px 1px rgba(60, 64, 67, 0.15);\n",
              "      fill: #174EA6;\n",
              "    }\n",
              "\n",
              "    .colab-df-buttons div {\n",
              "      margin-bottom: 4px;\n",
              "    }\n",
              "\n",
              "    [theme=dark] .colab-df-convert {\n",
              "      background-color: #3B4455;\n",
              "      fill: #D2E3FC;\n",
              "    }\n",
              "\n",
              "    [theme=dark] .colab-df-convert:hover {\n",
              "      background-color: #434B5C;\n",
              "      box-shadow: 0px 1px 3px 1px rgba(0, 0, 0, 0.15);\n",
              "      filter: drop-shadow(0px 1px 2px rgba(0, 0, 0, 0.3));\n",
              "      fill: #FFFFFF;\n",
              "    }\n",
              "  </style>\n",
              "\n",
              "    <script>\n",
              "      const buttonEl =\n",
              "        document.querySelector('#df-fad64e13-502b-4681-95f7-8ec6e628bc2e button.colab-df-convert');\n",
              "      buttonEl.style.display =\n",
              "        google.colab.kernel.accessAllowed ? 'block' : 'none';\n",
              "\n",
              "      async function convertToInteractive(key) {\n",
              "        const element = document.querySelector('#df-fad64e13-502b-4681-95f7-8ec6e628bc2e');\n",
              "        const dataTable =\n",
              "          await google.colab.kernel.invokeFunction('convertToInteractive',\n",
              "                                                    [key], {});\n",
              "        if (!dataTable) return;\n",
              "\n",
              "        const docLinkHtml = 'Like what you see? Visit the ' +\n",
              "          '<a target=\"_blank\" href=https://colab.research.google.com/notebooks/data_table.ipynb>data table notebook</a>'\n",
              "          + ' to learn more about interactive tables.';\n",
              "        element.innerHTML = '';\n",
              "        dataTable['output_type'] = 'display_data';\n",
              "        await google.colab.output.renderOutput(dataTable, element);\n",
              "        const docLink = document.createElement('div');\n",
              "        docLink.innerHTML = docLinkHtml;\n",
              "        element.appendChild(docLink);\n",
              "      }\n",
              "    </script>\n",
              "  </div>\n",
              "\n",
              "\n",
              "    <div id=\"df-df6782e0-e1c2-47f6-95b5-c702ef7585bf\">\n",
              "      <button class=\"colab-df-quickchart\" onclick=\"quickchart('df-df6782e0-e1c2-47f6-95b5-c702ef7585bf')\"\n",
              "                title=\"Suggest charts\"\n",
              "                style=\"display:none;\">\n",
              "\n",
              "<svg xmlns=\"http://www.w3.org/2000/svg\" height=\"24px\"viewBox=\"0 0 24 24\"\n",
              "     width=\"24px\">\n",
              "    <g>\n",
              "        <path d=\"M19 3H5c-1.1 0-2 .9-2 2v14c0 1.1.9 2 2 2h14c1.1 0 2-.9 2-2V5c0-1.1-.9-2-2-2zM9 17H7v-7h2v7zm4 0h-2V7h2v10zm4 0h-2v-4h2v4z\"/>\n",
              "    </g>\n",
              "</svg>\n",
              "      </button>\n",
              "\n",
              "<style>\n",
              "  .colab-df-quickchart {\n",
              "      --bg-color: #E8F0FE;\n",
              "      --fill-color: #1967D2;\n",
              "      --hover-bg-color: #E2EBFA;\n",
              "      --hover-fill-color: #174EA6;\n",
              "      --disabled-fill-color: #AAA;\n",
              "      --disabled-bg-color: #DDD;\n",
              "  }\n",
              "\n",
              "  [theme=dark] .colab-df-quickchart {\n",
              "      --bg-color: #3B4455;\n",
              "      --fill-color: #D2E3FC;\n",
              "      --hover-bg-color: #434B5C;\n",
              "      --hover-fill-color: #FFFFFF;\n",
              "      --disabled-bg-color: #3B4455;\n",
              "      --disabled-fill-color: #666;\n",
              "  }\n",
              "\n",
              "  .colab-df-quickchart {\n",
              "    background-color: var(--bg-color);\n",
              "    border: none;\n",
              "    border-radius: 50%;\n",
              "    cursor: pointer;\n",
              "    display: none;\n",
              "    fill: var(--fill-color);\n",
              "    height: 32px;\n",
              "    padding: 0;\n",
              "    width: 32px;\n",
              "  }\n",
              "\n",
              "  .colab-df-quickchart:hover {\n",
              "    background-color: var(--hover-bg-color);\n",
              "    box-shadow: 0 1px 2px rgba(60, 64, 67, 0.3), 0 1px 3px 1px rgba(60, 64, 67, 0.15);\n",
              "    fill: var(--button-hover-fill-color);\n",
              "  }\n",
              "\n",
              "  .colab-df-quickchart-complete:disabled,\n",
              "  .colab-df-quickchart-complete:disabled:hover {\n",
              "    background-color: var(--disabled-bg-color);\n",
              "    fill: var(--disabled-fill-color);\n",
              "    box-shadow: none;\n",
              "  }\n",
              "\n",
              "  .colab-df-spinner {\n",
              "    border: 2px solid var(--fill-color);\n",
              "    border-color: transparent;\n",
              "    border-bottom-color: var(--fill-color);\n",
              "    animation:\n",
              "      spin 1s steps(1) infinite;\n",
              "  }\n",
              "\n",
              "  @keyframes spin {\n",
              "    0% {\n",
              "      border-color: transparent;\n",
              "      border-bottom-color: var(--fill-color);\n",
              "      border-left-color: var(--fill-color);\n",
              "    }\n",
              "    20% {\n",
              "      border-color: transparent;\n",
              "      border-left-color: var(--fill-color);\n",
              "      border-top-color: var(--fill-color);\n",
              "    }\n",
              "    30% {\n",
              "      border-color: transparent;\n",
              "      border-left-color: var(--fill-color);\n",
              "      border-top-color: var(--fill-color);\n",
              "      border-right-color: var(--fill-color);\n",
              "    }\n",
              "    40% {\n",
              "      border-color: transparent;\n",
              "      border-right-color: var(--fill-color);\n",
              "      border-top-color: var(--fill-color);\n",
              "    }\n",
              "    60% {\n",
              "      border-color: transparent;\n",
              "      border-right-color: var(--fill-color);\n",
              "    }\n",
              "    80% {\n",
              "      border-color: transparent;\n",
              "      border-right-color: var(--fill-color);\n",
              "      border-bottom-color: var(--fill-color);\n",
              "    }\n",
              "    90% {\n",
              "      border-color: transparent;\n",
              "      border-bottom-color: var(--fill-color);\n",
              "    }\n",
              "  }\n",
              "</style>\n",
              "\n",
              "      <script>\n",
              "        async function quickchart(key) {\n",
              "          const quickchartButtonEl =\n",
              "            document.querySelector('#' + key + ' button');\n",
              "          quickchartButtonEl.disabled = true;  // To prevent multiple clicks.\n",
              "          quickchartButtonEl.classList.add('colab-df-spinner');\n",
              "          try {\n",
              "            const charts = await google.colab.kernel.invokeFunction(\n",
              "                'suggestCharts', [key], {});\n",
              "          } catch (error) {\n",
              "            console.error('Error during call to suggestCharts:', error);\n",
              "          }\n",
              "          quickchartButtonEl.classList.remove('colab-df-spinner');\n",
              "          quickchartButtonEl.classList.add('colab-df-quickchart-complete');\n",
              "        }\n",
              "        (() => {\n",
              "          let quickchartButtonEl =\n",
              "            document.querySelector('#df-df6782e0-e1c2-47f6-95b5-c702ef7585bf button');\n",
              "          quickchartButtonEl.style.display =\n",
              "            google.colab.kernel.accessAllowed ? 'block' : 'none';\n",
              "        })();\n",
              "      </script>\n",
              "    </div>\n",
              "\n",
              "  <div id=\"id_4bda8eb0-d055-420b-9863-61e13df412ca\">\n",
              "    <style>\n",
              "      .colab-df-generate {\n",
              "        background-color: #E8F0FE;\n",
              "        border: none;\n",
              "        border-radius: 50%;\n",
              "        cursor: pointer;\n",
              "        display: none;\n",
              "        fill: #1967D2;\n",
              "        height: 32px;\n",
              "        padding: 0 0 0 0;\n",
              "        width: 32px;\n",
              "      }\n",
              "\n",
              "      .colab-df-generate:hover {\n",
              "        background-color: #E2EBFA;\n",
              "        box-shadow: 0px 1px 2px rgba(60, 64, 67, 0.3), 0px 1px 3px 1px rgba(60, 64, 67, 0.15);\n",
              "        fill: #174EA6;\n",
              "      }\n",
              "\n",
              "      [theme=dark] .colab-df-generate {\n",
              "        background-color: #3B4455;\n",
              "        fill: #D2E3FC;\n",
              "      }\n",
              "\n",
              "      [theme=dark] .colab-df-generate:hover {\n",
              "        background-color: #434B5C;\n",
              "        box-shadow: 0px 1px 3px 1px rgba(0, 0, 0, 0.15);\n",
              "        filter: drop-shadow(0px 1px 2px rgba(0, 0, 0, 0.3));\n",
              "        fill: #FFFFFF;\n",
              "      }\n",
              "    </style>\n",
              "    <button class=\"colab-df-generate\" onclick=\"generateWithVariable('grouped')\"\n",
              "            title=\"Generate code using this dataframe.\"\n",
              "            style=\"display:none;\">\n",
              "\n",
              "  <svg xmlns=\"http://www.w3.org/2000/svg\" height=\"24px\"viewBox=\"0 0 24 24\"\n",
              "       width=\"24px\">\n",
              "    <path d=\"M7,19H8.4L18.45,9,17,7.55,7,17.6ZM5,21V16.75L18.45,3.32a2,2,0,0,1,2.83,0l1.4,1.43a1.91,1.91,0,0,1,.58,1.4,1.91,1.91,0,0,1-.58,1.4L9.25,21ZM18.45,9,17,7.55Zm-12,3A5.31,5.31,0,0,0,4.9,8.1,5.31,5.31,0,0,0,1,6.5,5.31,5.31,0,0,0,4.9,4.9,5.31,5.31,0,0,0,6.5,1,5.31,5.31,0,0,0,8.1,4.9,5.31,5.31,0,0,0,12,6.5,5.46,5.46,0,0,0,6.5,12Z\"/>\n",
              "  </svg>\n",
              "    </button>\n",
              "    <script>\n",
              "      (() => {\n",
              "      const buttonEl =\n",
              "        document.querySelector('#id_4bda8eb0-d055-420b-9863-61e13df412ca button.colab-df-generate');\n",
              "      buttonEl.style.display =\n",
              "        google.colab.kernel.accessAllowed ? 'block' : 'none';\n",
              "\n",
              "      buttonEl.onclick = () => {\n",
              "        google.colab.notebook.generateWithVariable('grouped');\n",
              "      }\n",
              "      })();\n",
              "    </script>\n",
              "  </div>\n",
              "\n",
              "    </div>\n",
              "  </div>\n"
            ],
            "application/vnd.google.colaboratory.intrinsic+json": {
              "type": "dataframe",
              "variable_name": "grouped",
              "summary": "{\n  \"name\": \"grouped\",\n  \"rows\": 8,\n  \"fields\": [\n    {\n      \"column\": \"company\",\n      \"properties\": {\n        \"dtype\": \"category\",\n        \"num_unique_values\": 1,\n        \"samples\": [\n          \"CITIBANK, N.A.\"\n        ],\n        \"semantic_type\": \"\",\n        \"description\": \"\"\n      }\n    },\n    {\n      \"column\": \"company_response_to_consumer\",\n      \"properties\": {\n        \"dtype\": \"string\",\n        \"num_unique_values\": 8,\n        \"samples\": [\n          \"Closed with monetary relief\"\n        ],\n        \"semantic_type\": \"\",\n        \"description\": \"\"\n      }\n    },\n    {\n      \"column\": \"total_complaints\",\n      \"properties\": {\n        \"dtype\": \"number\",\n        \"std\": 24739,\n        \"min\": 70,\n        \"max\": 71739,\n        \"num_unique_values\": 8,\n        \"samples\": [\n          19030\n        ],\n        \"semantic_type\": \"\",\n        \"description\": \"\"\n      }\n    },\n    {\n      \"column\": \"narrative_count\",\n      \"properties\": {\n        \"dtype\": \"number\",\n        \"std\": 10141,\n        \"min\": 0,\n        \"max\": 29083,\n        \"num_unique_values\": 6,\n        \"samples\": [\n          29083\n        ],\n        \"semantic_type\": \"\",\n        \"description\": \"\"\n      }\n    },\n    {\n      \"column\": \"narrative_ratio\",\n      \"properties\": {\n        \"dtype\": \"number\",\n        \"std\": 0.20804789970443965,\n        \"min\": 0.0,\n        \"max\": 0.46,\n        \"num_unique_values\": 6,\n        \"samples\": [\n          0.41\n        ],\n        \"semantic_type\": \"\",\n        \"description\": \"\"\n      }\n    },\n    {\n      \"column\": \"response_ratio_within_company\",\n      \"properties\": {\n        \"dtype\": \"number\",\n        \"std\": 0.22411333229927602,\n        \"min\": 0.0,\n        \"max\": 0.65,\n        \"num_unique_values\": 5,\n        \"samples\": [\n          0.17\n        ],\n        \"semantic_type\": \"\",\n        \"description\": \"\"\n      }\n    }\n  ]\n}"
            }
          },
          "metadata": {}
        }
      ],
      "source": [
        "import matplotlib.pyplot as plt\n",
        "import seaborn as sns\n",
        "\n",
        "# Group and calculate counts\n",
        "grouped = (\n",
        "    df_banks\n",
        "    .groupby(['company', 'company_response_to_consumer'])\n",
        "    .agg(\n",
        "        total_complaints=('company', 'count'),\n",
        "        narrative_count=('consumer_complaint_narrative', lambda x: x.notna().sum())\n",
        "    )\n",
        "    .reset_index()\n",
        ")\n",
        "\n",
        "# Compute ratios\n",
        "grouped['narrative_ratio'] = (grouped['narrative_count'] / grouped['total_complaints']).round(2)\n",
        "\n",
        "# Compute within-company response label share\n",
        "total_by_company = grouped.groupby('company')['total_complaints'].transform('sum')\n",
        "grouped['response_ratio_within_company'] = (grouped['total_complaints'] / total_by_company).round(2)\n",
        "\n",
        "# Sort for plotting\n",
        "grouped = grouped.sort_values(by=['company', 'total_complaints'], ascending=[True, False])\n",
        "\n",
        "# Display the summary\n",
        "display(grouped)"
      ]
    },
    {
      "cell_type": "markdown",
      "metadata": {
        "id": "Jbt3QiTqzbzd"
      },
      "source": [
        "### Step 3b: Visualize Narrative Counts by Company and Response Type\n",
        "\n",
        "We use a grouped bar chart to compare narrative counts across response types.\n",
        "Each company is spaced out for better visual clarity."
      ]
    },
    {
      "cell_type": "code",
      "execution_count": 4,
      "metadata": {
        "colab": {
          "base_uri": "https://localhost:8080/",
          "height": 558
        },
        "id": "tlQzBVEczbzd",
        "outputId": "c3c2daa3-2c72-46de-92bb-0c6bab94cfdb"
      },
      "outputs": [
        {
          "output_type": "display_data",
          "data": {
            "text/plain": [
              "<Figure size 1200x600 with 1 Axes>"
            ],
            "image/png": "[encoded data removed]"
          },
          "metadata": {}
        }
      ],
      "source": [
        "import matplotlib.pyplot as plt\n",
        "import seaborn as sns\n",
        "\n",
        "# Create a new figure\n",
        "plt.figure(figsize=(12, 6))\n",
        "\n",
        "# Plot bar chart\n",
        "ax = sns.barplot(\n",
        "    data=grouped,\n",
        "    x='company',\n",
        "    y='narrative_count',\n",
        "    hue='company_response_to_consumer',\n",
        "    palette='tab10'\n",
        ")\n",
        "\n",
        "# Add % labels on top of each bar\n",
        "for container in ax.containers:\n",
        "    for bar in container:\n",
        "        height = bar.get_height()\n",
        "        if height > 0:\n",
        "            # Get corresponding company and response type from bar position\n",
        "            x_pos = bar.get_x() + bar.get_width() / 2\n",
        "            bar_index = list(ax.containers).index(container)\n",
        "            bar_label = bar.get_label()  # the response type\n",
        "            company_label = ax.get_xticklabels()[int(x_pos)].get_text()\n",
        "\n",
        "            # Get total narrative count for this company\n",
        "            total_narratives = grouped[grouped['company'] == company_label]['narrative_count'].sum()\n",
        "            pct = (height / total_narratives) * 100\n",
        "\n",
        "            # Annotate\n",
        "            ax.annotate(f\"{pct:.1f}%\",\n",
        "                        (bar.get_x() + bar.get_width() / 2, height),\n",
        "                        ha='center', va='bottom', fontsize=8, color='black', rotation=0)\n",
        "\n",
        "# Final touches\n",
        "plt.xticks(rotation=30, ha='right')\n",
        "plt.xlabel(\"Company\")\n",
        "plt.ylabel(\"Number of Narratives\")\n",
        "plt.title(\"Narrative Complaint Counts by Company and Response Type (%)\")\n",
        "plt.legend(title=\"Response Type\", bbox_to_anchor=(1.05, 1), loc='upper left')\n",
        "plt.tight_layout()\n",
        "plt.grid(True, axis='y')\n",
        "plt.show()"
      ]
    },
    {
      "cell_type": "markdown",
      "metadata": {
        "id": "DcOvSAl5zbzd"
      },
      "source": [
        "### Step 4: Filter to Three Key Response Categories\n",
        "\n",
        "We narrow our master dataset down to only the three “closed” categories we care about:\n",
        "\n",
        "- **Closed with explanation**  \n",
        "- **Closed with monetary relief**  \n",
        "- **Closed with non-monetary relief**  \n",
        "\n",
        "All other response types are dropped as noise."
      ]
    },
    {
      "cell_type": "code",
      "execution_count": 5,
      "metadata": {
        "colab": {
          "base_uri": "https://localhost:8080/"
        },
        "id": "ijC5dn8dzbzd",
        "outputId": "5643c3ef-c334-48fb-dd75-fdaa2fc2c5d1"
      },
      "outputs": [
        {
          "output_type": "stream",
          "name": "stdout",
          "text": [
            "After filtering, dataset shape: (107812, 18)\n",
            "Remaining response types:\n",
            " company_response_to_consumer\n",
            "Closed with explanation            71739\n",
            "Closed with monetary relief        19030\n",
            "Closed with non-monetary relief    17043\n",
            "Name: count, dtype: int64\n"
          ]
        }
      ],
      "source": [
        "# Step 4: Keep only the 3 desired response categories\n",
        "keep_responses = [\n",
        "    'Closed with explanation',\n",
        "    'Closed with monetary relief',\n",
        "    'Closed with non-monetary relief'\n",
        "]\n",
        "\n",
        "df_filtered = df_banks[\n",
        "    df_banks['company_response_to_consumer'].isin(keep_responses)\n",
        "].copy()\n",
        "\n",
        "print(\"After filtering, dataset shape:\", df_filtered.shape)\n",
        "print(\"Remaining response types:\\n\",\n",
        "      df_filtered['company_response_to_consumer'].value_counts())"
      ]
    },
    {
      "cell_type": "markdown",
      "metadata": {
        "id": "Ole9ajo4zbzd"
      },
      "source": [
        "### Step 5: Create Binary Target for Monetary Relief\n",
        "\n",
        "We convert the three categories into a **binary target**:\n",
        "- **1** if “Closed with monetary relief”  \n",
        "- **0** if “Closed with explanation” or “Closed with non-monetary relief”"
      ]
    },
    {
      "cell_type": "code",
      "execution_count": 6,
      "metadata": {
        "colab": {
          "base_uri": "https://localhost:8080/"
        },
        "id": "6z-mjtm5zbze",
        "outputId": "8a624a5f-268a-4166-ffeb-ec147b15babf"
      },
      "outputs": [
        {
          "output_type": "stream",
          "name": "stdout",
          "text": [
            "Value counts for target 'monetary_relief':\n",
            " monetary_relief\n",
            "0    88782\n",
            "1    19030\n",
            "Name: count, dtype: int64\n"
          ]
        }
      ],
      "source": [
        "df_filtered['monetary_relief'] = np.where(\n",
        "    df_filtered['company_response_to_consumer'] == 'Closed with monetary relief',\n",
        "    1,\n",
        "    0\n",
        ")\n",
        "\n",
        "print(\"Value counts for target 'monetary_relief':\\n\",\n",
        "      df_filtered['monetary_relief'].value_counts())"
      ]
    },
    {
      "cell_type": "markdown",
      "metadata": {
        "id": "cLGB-Zkjzbze"
      },
      "source": [
        "### Step 6: Select Features and One-Hot Encode\n",
        "\n",
        "We will use the categorical attributes:\n",
        "- **product**  \n",
        "- **sub-product**  \n",
        "- **issue**  \n",
        "- **sub-issue**\n",
        "\n",
        "We one-hot encode these four columns to prepare for a baseline classifier."
      ]
    },
    {
      "cell_type": "code",
      "execution_count": 7,
      "metadata": {
        "colab": {
          "base_uri": "https://localhost:8080/"
        },
        "id": "41yL79Q-zbze",
        "outputId": "4734735d-c582-4fb2-ff82-14a90ba4fb18"
      },
      "outputs": [
        {
          "output_type": "stream",
          "name": "stdout",
          "text": [
            "Feature matrix shape after one-hot encoding: (107812, 475)\n"
          ]
        }
      ],
      "source": [
        "# Select our features and the target\n",
        "features = ['product', 'sub-product', 'issue', 'sub-issue']\n",
        "X_cat = df_filtered[features]\n",
        "y = df_filtered['monetary_relief']\n",
        "\n",
        "# One-hot encode\n",
        "X_structured = pd.get_dummies(X_cat, drop_first=True)\n",
        "\n",
        "print(\"Feature matrix shape after one-hot encoding:\", X_structured.shape)"
      ]
    },
    {
      "cell_type": "code",
      "source": [
        "# Export selected categorical and text features to CSV for further modeling\n",
        "citi_input_features = df_filtered[['product', 'sub-product', 'issue', 'sub-issue', 'consumer_complaint_narrative', 'monetary_relief']]\n",
        "citi_input_features.to_csv(\"citi_input_features.csv\", index=False)"
      ],
      "metadata": {
        "id": "ODFPOXIN0ICn"
      },
      "execution_count": 8,
      "outputs": []
    },
    {
      "cell_type": "markdown",
      "source": [
        "### Step 7: TF-IDF Vectorization of Customer Complaint Texts\n",
        "\n",
        "We will process the complaint narratives as follows:  \n",
        "- **Clean the text** by removing punctuation, numbers, and extra spaces, and converting to lowercase  \n",
        "- **Generate TF-IDF features** using unigrams and bigrams, limited to the top 1,000 terms  \n",
        "\n",
        "We use the resulting feature matrix as input for our baseline classifier."
      ],
      "metadata": {
        "id": "z2ftmQdw5yYp"
      }
    },
    {
      "cell_type": "code",
      "source": [
        "import re\n",
        "from sklearn.feature_extraction.text import TfidfVectorizer\n",
        "\n",
        "# Define a text cleaning function\n",
        "def clean_text(text):\n",
        "    if pd.isna(text):\n",
        "        return \"\"\n",
        "    # Remove punctuation and numbers, keep only letters and spaces\n",
        "    text = re.sub(r\"[^a-zA-Z\\s]\", \"\", text)\n",
        "    # Convert to lowercase\n",
        "    text = text.lower()\n",
        "    # Remove extra whitespace\n",
        "    text = re.sub(r\"\\s+\", \" \", text).strip()\n",
        "    return text\n",
        "\n",
        "# Apply cleaning to the complaint narrative\n",
        "df_filtered['cleaned_narrative'] = df_filtered['consumer_complaint_narrative'].apply(clean_text)\n",
        "\n",
        "# Generate TF-IDF features from the cleaned text\n",
        "tfidf = TfidfVectorizer(max_features=1000, ngram_range=(1, 2))  # using unigrams and bigrams\n",
        "X_tfidf = tfidf.fit_transform(df_filtered['cleaned_narrative'])\n",
        "\n",
        "print(\"TF-IDF feature matrix shape:\", X_tfidf.shape)"
      ],
      "metadata": {
        "colab": {
          "base_uri": "https://localhost:8080/"
        },
        "id": "4S8fkDnv0kYT",
        "outputId": "24f97758-3767-4f7e-993b-22c1c81a5f4e"
      },
      "execution_count": 9,
      "outputs": [
        {
          "output_type": "stream",
          "name": "stdout",
          "text": [
            "TF-IDF feature matrix shape: (107812, 1000)\n"
          ]
        }
      ]
    },
    {
      "cell_type": "markdown",
      "source": [
        "### Step 8: Sentiment Feature Extraction from Customer Complaint Texts\n",
        "\n",
        "We extract sentiment scores from the cleaned complaint narratives using TextBlob:  \n",
        "- **Polarity** indicates sentiment from negative (-1) to positive (+1)  \n",
        "- **Subjectivity** measures the degree of personal opinion from objective (0) to subjective (1)  \n",
        "\n",
        "These features are added as new columns and used to enrich the input for classification."
      ],
      "metadata": {
        "id": "4ZN1bC-MfiCe"
      }
    },
    {
      "cell_type": "code",
      "source": [
        "from textblob import TextBlob\n",
        "\n",
        "# Extract sentiment polarity and subjectivity using TextBlob\n",
        "def get_sentiment(text):\n",
        "    blob = TextBlob(text)\n",
        "    return pd.Series({\n",
        "        'polarity': blob.sentiment.polarity,         # [-1, 1], negative to positive\n",
        "        'subjectivity': blob.sentiment.subjectivity  # [0, 1], objective to subjective\n",
        "    })\n",
        "\n",
        "# Apply sentiment scoring to each narrative\n",
        "df_filtered[['polarity', 'subjectivity']] = df_filtered['cleaned_narrative'].apply(get_sentiment)\n",
        "\n",
        "# Preview results\n",
        "print(df_filtered[['cleaned_narrative', 'polarity', 'subjectivity']].head())"
      ],
      "metadata": {
        "colab": {
          "base_uri": "https://localhost:8080/"
        },
        "id": "kKyfb9RY3igs",
        "outputId": "d4090580-f70d-432a-f720-cf35a780442a"
      },
      "execution_count": 10,
      "outputs": [
        {
          "output_type": "stream",
          "name": "stdout",
          "text": [
            "                                    cleaned_narrative  polarity  subjectivity\n",
            "0                                                      0.000000      0.000000\n",
            "9   im just mailing you to let you know respectful...  0.113170      0.744420\n",
            "11                                                     0.000000      0.000000\n",
            "13                                                     0.000000      0.000000\n",
            "25  on xxxxyear a fraudulent charge of was made on... -0.014815      0.314815\n"
          ]
        }
      ]
    },
    {
      "cell_type": "markdown",
      "source": [
        "### Step 9: Train/Test Split for Naive Bayes\n",
        "\n",
        "We combine structured features, TF-IDF vectors, and scaled sentiment scores to form the final input matrix:  \n",
        "- **Sentiment features** (`polarity`, `subjectivity`) are scaled using MinMaxScaler  \n",
        "- **All features** are horizontally stacked into a sparse matrix for modeling  \n",
        "\n",
        "We then split the data into training and test sets with stratified sampling to preserve label balance."
      ],
      "metadata": {
        "id": "_LCfVmN-88s_"
      }
    },
    {
      "cell_type": "code",
      "source": [
        "from scipy.sparse import hstack\n",
        "#from sklearn.preprocessing import StandardScaler\n",
        "from sklearn.preprocessing import MinMaxScaler\n",
        "from sklearn.model_selection import train_test_split\n",
        "\n",
        "# Extract and scale sentiment features\n",
        "sentiment_raw = df_filtered[['polarity', 'subjectivity']].fillna(0).astype(float).values\n",
        "scaler = MinMaxScaler()\n",
        "sentiment_scaled = scaler.fit_transform(sentiment_raw)\n",
        "\n",
        "# X with scaled sentiment features\n",
        "X_nb = hstack([X_structured.values, X_tfidf, sentiment_scaled])\n",
        "\n",
        "X_train_nb, X_test_nb, y_train, y_test = train_test_split(\n",
        "    X_nb, y, test_size=0.2, random_state=42, stratify=y\n",
        ")\n",
        "\n",
        "print(\"Final feature matrix shape:\", X_nb.shape)\n",
        "print(\"Train shape:\", X_train_nb.shape, \"Test shape:\", X_test_nb.shape)\n",
        "print(\"Train target balance:\\n\", y_train.value_counts(normalize=True))\n",
        "print(\"Test  target balance:\\n\", y_train.value_counts(normalize=True))"
      ],
      "metadata": {
        "colab": {
          "base_uri": "https://localhost:8080/"
        },
        "id": "Org2BwQs85xN",
        "outputId": "1ba18767-200b-4317-85f6-9562c0865f03"
      },
      "execution_count": 11,
      "outputs": [
        {
          "output_type": "stream",
          "name": "stdout",
          "text": [
            "Final feature matrix shape: (107812, 1477)\n",
            "Train shape: (86249, 1477) Test shape: (21563, 1477)\n",
            "Train target balance:\n",
            " monetary_relief\n",
            "0    0.823488\n",
            "1    0.176512\n",
            "Name: proportion, dtype: float64\n",
            "Test  target balance:\n",
            " monetary_relief\n",
            "0    0.823488\n",
            "1    0.176512\n",
            "Name: proportion, dtype: float64\n"
          ]
        }
      ]
    },
    {
      "cell_type": "markdown",
      "source": [
        "### Step 10: Naive Bayes Model Training and Evaluation\n",
        "\n",
        "We train a baseline **Multinomial Naive Bayes** classifier using the combined feature set:  \n",
        "- **Fit** the model on the training data  \n",
        "- **Predict** outcomes on the test set  \n",
        "- **Evaluate** performance using accuracy, classification report, and confusion matrix"
      ],
      "metadata": {
        "id": "GEMDR_Nr8Dpi"
      }
    },
    {
      "cell_type": "code",
      "source": [
        "from sklearn.naive_bayes import MultinomialNB\n",
        "from sklearn.metrics import classification_report, accuracy_score, confusion_matrix\n",
        "\n",
        "# Train Naive Bayes\n",
        "nb_model = MultinomialNB()\n",
        "nb_model.fit(X_train_nb, y_train)\n",
        "\n",
        "# Predict\n",
        "y_pred = nb_model.predict(X_test_nb)\n",
        "\n",
        "# Evaluate\n",
        "print(\"Accuracy:\", accuracy_score(y_test, y_pred))\n",
        "print(\"\\nClassification Report:\\n\", classification_report(y_test, y_pred, digits=4))\n",
        "print(\"\\nConfusion Matrix:\\n\", confusion_matrix(y_test, y_pred))"
      ],
      "metadata": {
        "colab": {
          "base_uri": "https://localhost:8080/"
        },
        "id": "9ej_H9MF8CBe",
        "outputId": "28f2f2b4-b6e2-4c90-a025-0d31ef121457"
      },
      "execution_count": 12,
      "outputs": [
        {
          "output_type": "stream",
          "name": "stdout",
          "text": [
            "Accuracy: 0.7458145898066132\n",
            "\n",
            "Classification Report:\n",
            "               precision    recall  f1-score   support\n",
            "\n",
            "           0     0.9087    0.7686    0.8328     17757\n",
            "           1     0.3720    0.6395    0.4704      3806\n",
            "\n",
            "    accuracy                         0.7458     21563\n",
            "   macro avg     0.6403    0.7041    0.6516     21563\n",
            "weighted avg     0.8139    0.7458    0.7688     21563\n",
            "\n",
            "\n",
            "Confusion Matrix:\n",
            " [[13648  4109]\n",
            " [ 1372  2434]]\n"
          ]
        }
      ]
    },
    {
      "cell_type": "markdown",
      "metadata": {
        "id": "0bbkHYsczbze"
      },
      "source": [
        "### Step 11: Train/Test Split for Logistic Regression\n",
        "\n",
        "We split our data into 80% train / 20% test sets, stratifying on the target to preserve class balance."
      ]
    },
    {
      "cell_type": "code",
      "execution_count": 13,
      "metadata": {
        "colab": {
          "base_uri": "https://localhost:8080/"
        },
        "id": "WCJN6Iynzbze",
        "outputId": "e844f692-f651-4b94-9dd2-f887e09eb617"
      },
      "outputs": [
        {
          "output_type": "stream",
          "name": "stdout",
          "text": [
            "Final feature matrix shape: (107812, 1477)\n",
            "Train shape: (86249, 1477) Test shape: (21563, 1477)\n",
            "Train target balance:\n",
            " monetary_relief\n",
            "0    0.823488\n",
            "1    0.176512\n",
            "Name: proportion, dtype: float64\n",
            "Test  target balance:\n",
            " monetary_relief\n",
            "0    0.823494\n",
            "1    0.176506\n",
            "Name: proportion, dtype: float64\n"
          ]
        }
      ],
      "source": [
        "# Make sure sentiment features are numeric (float), and fill any missing\n",
        "sentiment_features = df_filtered[['polarity', 'subjectivity']].fillna(0).astype(float).values\n",
        "\n",
        "# X with sentiment features\n",
        "X_structured_sparse = X_structured.astype(float).values  # pandas -> numpy\n",
        "X_lr = hstack([X_structured_sparse, X_tfidf, sentiment_features])  # horizontally stack all\n",
        "\n",
        "X_train_lr, X_test_lr, y_train, y_test = train_test_split(\n",
        "    X_lr, y, test_size=0.2, random_state=42, stratify=y\n",
        ")\n",
        "\n",
        "print(\"Final feature matrix shape:\", X_lr.shape)\n",
        "print(\"Train shape:\", X_train_lr.shape, \"Test shape:\", X_test_lr.shape)\n",
        "print(\"Train target balance:\\n\", y_train.value_counts(normalize=True))\n",
        "print(\"Test  target balance:\\n\", y_test.value_counts(normalize=True))"
      ]
    },
    {
      "cell_type": "markdown",
      "metadata": {
        "id": "efYh1045zbze"
      },
      "source": [
        "### Step 12: Logistic Regression Model Training and Evaluation\n",
        "\n",
        "\n",
        "We fit a simple logistic regression as our baseline classifier and evaluate accuracy, precision, recall, and F1 on the test set."
      ]
    },
    {
      "cell_type": "code",
      "execution_count": 14,
      "metadata": {
        "colab": {
          "base_uri": "https://localhost:8080/"
        },
        "id": "KF_BueZqzbze",
        "outputId": "b6edfef6-aaa1-4c70-c344-9a9e4503dd1e"
      },
      "outputs": [
        {
          "output_type": "stream",
          "name": "stdout",
          "text": [
            "Accuracy: 0.8345777489217642\n",
            "\n",
            "Classification Report:\n",
            "               precision    recall  f1-score   support\n",
            "\n",
            "           0     0.8459    0.9771    0.9068     17757\n",
            "           1     0.6135    0.1697    0.2659      3806\n",
            "\n",
            "    accuracy                         0.8346     21563\n",
            "   macro avg     0.7297    0.5734    0.5863     21563\n",
            "weighted avg     0.8049    0.8346    0.7937     21563\n",
            "\n",
            "\n",
            "Confusion Matrix:\n",
            " [[17350   407]\n",
            " [ 3160   646]]\n"
          ]
        }
      ],
      "source": [
        "from sklearn.linear_model import LogisticRegression\n",
        "from sklearn.metrics import classification_report, accuracy_score\n",
        "\n",
        "# Train\n",
        "clf = LogisticRegression(max_iter=1000, random_state=42)\n",
        "clf.fit(X_train_lr, y_train)\n",
        "\n",
        "# Predict & evaluate\n",
        "y_pred = clf.predict(X_test_lr)\n",
        "\n",
        "print(\"Accuracy:\", accuracy_score(y_test, y_pred))\n",
        "print(\"\\nClassification Report:\\n\", classification_report(y_test, y_pred, digits=4))\n",
        "print(\"\\nConfusion Matrix:\\n\", confusion_matrix(y_test, y_pred))"
      ]
    },
    {
      "cell_type": "markdown",
      "metadata": {
        "id": "gkcMfGjTzbze"
      },
      "source": [
        "### Step 13: Address Class Imbalance for Logistic Regression\n",
        "\n",
        "Our baseline logistic regression performs well on the majority class (no monetary relief) but struggles on the minority class (“monetary relief”), with a recall of only ~17%. This suggests that the model is biased toward predicting the dominant outcome.\n",
        "\n",
        "To address this imbalance, we’ll try three strategies:\n",
        "\n",
        "1. **Class‐weighted logistic regression** – encourage the model to give more importance to the minority class during training.  \n",
        "2. **SMOTE oversampling + logistic regression** – synthetically generate more samples of the minority class to balance the training data.  \n",
        "3. **Random under-sampling** – reduce the number of majority class examples to create a more balanced training set.\n",
        "\n",
        "We’ll compare precision, recall, and F1-score across these approaches to assess improvement."
      ]
    },
    {
      "cell_type": "code",
      "execution_count": 15,
      "metadata": {
        "colab": {
          "base_uri": "https://localhost:8080/"
        },
        "id": "F3ULz2Yfzbze",
        "outputId": "29a921bb-5b50-41cc-c144-2a82ad0efc9b"
      },
      "outputs": [
        {
          "output_type": "stream",
          "name": "stdout",
          "text": [
            "=== Class‐Weighted LR ===\n",
            "Accuracy: 0.6967026851551268\n",
            "              precision    recall  f1-score   support\n",
            "\n",
            "           0     0.9364    0.6777    0.7863     17757\n",
            "           1     0.3431    0.7853    0.4776      3806\n",
            "\n",
            "    accuracy                         0.6967     21563\n",
            "   macro avg     0.6398    0.7315    0.6319     21563\n",
            "weighted avg     0.8317    0.6967    0.7318     21563\n",
            "\n"
          ]
        }
      ],
      "source": [
        "# 13a. LogisticRegression with class_weight='balanced'\n",
        "\n",
        "clf_bal = LogisticRegression(class_weight='balanced', max_iter=1000, random_state=42)\n",
        "clf_bal.fit(X_train_lr, y_train)\n",
        "y_pred_bal = clf_bal.predict(X_test_lr)\n",
        "\n",
        "print(\"=== Class‐Weighted LR ===\")\n",
        "print(\"Accuracy:\", accuracy_score(y_test, y_pred_bal))\n",
        "print(classification_report(y_test, y_pred_bal, digits=4))"
      ]
    },
    {
      "cell_type": "code",
      "execution_count": 16,
      "metadata": {
        "colab": {
          "base_uri": "https://localhost:8080/"
        },
        "id": "hFtKg4i-zbze",
        "outputId": "485f49cd-ccd9-414a-dc6a-0cdaceab7178"
      },
      "outputs": [
        {
          "output_type": "stream",
          "name": "stdout",
          "text": [
            "After SMOTE, shapes: (142050, 1477) (142050,)\n",
            "=== SMOTE + LR ===\n",
            "Accuracy: 0.6994388535918008\n",
            "              precision    recall  f1-score   support\n",
            "\n",
            "           0     0.9346    0.6828    0.7891     17757\n",
            "           1     0.3443    0.7772    0.4772      3806\n",
            "\n",
            "    accuracy                         0.6994     21563\n",
            "   macro avg     0.6395    0.7300    0.6332     21563\n",
            "weighted avg     0.8304    0.6994    0.7340     21563\n",
            "\n"
          ]
        }
      ],
      "source": [
        "# 13b. SMOTE oversampling + LogisticRegression\n",
        "from imblearn.over_sampling import SMOTE\n",
        "from sklearn.linear_model import LogisticRegression\n",
        "from sklearn.metrics import accuracy_score, classification_report\n",
        "\n",
        "# Convert training and test feature matrices to dense format\n",
        "X_train_dense = X_train_lr.toarray().astype(float)\n",
        "X_test_dense = X_test_lr.toarray().astype(float)\n",
        "\n",
        "# Apply SMOTE to the training data\n",
        "sm = SMOTE(random_state=42)\n",
        "X_res, y_res = sm.fit_resample(X_train_dense, y_train)\n",
        "\n",
        "print(\"After SMOTE, shapes:\", X_res.shape, y_res.shape)\n",
        "\n",
        "# Train logistic regression on the resampled data\n",
        "clf_sm = LogisticRegression(max_iter=1000, random_state=42)\n",
        "clf_sm.fit(X_res, y_res)\n",
        "\n",
        "# Predict on the test data\n",
        "y_pred_sm = clf_sm.predict(X_test_dense)\n",
        "\n",
        "# Evaluation\n",
        "print(\"=== SMOTE + LR ===\")\n",
        "print(\"Accuracy:\", accuracy_score(y_test, y_pred_sm))\n",
        "print(classification_report(y_test, y_pred_sm, digits=4))"
      ]
    },
    {
      "cell_type": "code",
      "execution_count": 17,
      "metadata": {
        "colab": {
          "base_uri": "https://localhost:8080/"
        },
        "id": "rrIxD9xAzbze",
        "outputId": "3880432a-d94c-462e-a0ff-7c77f1d73bb9"
      },
      "outputs": [
        {
          "output_type": "stream",
          "name": "stdout",
          "text": [
            "Balanced train shape: (30448, 1477)\n",
            "Label distribution: [15224 15224]\n",
            "=== Under-Sampling + LR ===\n",
            "Accuracy: 0.6912767240179938\n",
            "              precision    recall  f1-score   support\n",
            "\n",
            "           0     0.9388    0.6687    0.7811     17757\n",
            "           1     0.3401    0.7966    0.4767      3806\n",
            "\n",
            "    accuracy                         0.6913     21563\n",
            "   macro avg     0.6395    0.7327    0.6289     21563\n",
            "weighted avg     0.8331    0.6913    0.7273     21563\n",
            "\n"
          ]
        }
      ],
      "source": [
        "# 13c: Random Under-Sampling to Balance Classes\n",
        "from sklearn.utils import resample\n",
        "import numpy as np\n",
        "\n",
        "# Convert y_train to numpy array\n",
        "y_train_np = y_train.to_numpy()\n",
        "\n",
        "# Get index positions for each class\n",
        "pos_idx = np.where(y_train_np == 1)[0]\n",
        "neg_idx = np.where(y_train_np == 0)[0]\n",
        "\n",
        "# Downsample majority class to match minority\n",
        "neg_down_idx = resample(\n",
        "    neg_idx,\n",
        "    replace=False,\n",
        "    n_samples=len(pos_idx),\n",
        "    random_state=42\n",
        ")\n",
        "\n",
        "# Combine indices and sort\n",
        "balanced_idx = np.concatenate([pos_idx, neg_down_idx])\n",
        "balanced_idx.sort()\n",
        "\n",
        "# Subset feature matrix and labels\n",
        "X_bal = X_train_lr[balanced_idx]\n",
        "y_bal = y_train_np[balanced_idx]\n",
        "\n",
        "print(\"Balanced train shape:\", X_bal.shape)\n",
        "print(\"Label distribution:\", np.bincount(y_bal))\n",
        "\n",
        "# Train logistic regression\n",
        "clf_under = LogisticRegression(max_iter=1000, random_state=42)\n",
        "clf_under.fit(X_bal, y_bal)\n",
        "\n",
        "# Predict on the original test set\n",
        "y_pred_under = clf_under.predict(X_test_lr)\n",
        "\n",
        "# Evaluate\n",
        "print(\"=== Under-Sampling + LR ===\")\n",
        "print(\"Accuracy:\", accuracy_score(y_test, y_pred_under))\n",
        "print(classification_report(y_test, y_pred_under, digits=4))"
      ]
    },
    {
      "cell_type": "markdown",
      "metadata": {
        "id": "dgH3T9Kfzbze"
      },
      "source": [
        "All three imbalance handling strategies—**class-weighting**, **SMOTE**, and **random under-sampling**—significantly improve recall on the minority class compared to the unadjusted baseline:\n",
        "\n",
        "- **Baseline model** (no adjustment) achieves **only 17% recall** on “monetary relief” cases, despite high overall accuracy (~83%).  \n",
        "- With **class-weighting**, **SMOTE**, and **under-sampling**, recall on the minority class increases dramatically to **~78–79%**, allowing the model to capture most remediated complaints.  \n",
        "- However, **precision drops** to ~34% across all three, indicating more false positives.  \n",
        "- **Overall accuracy** decreases to **~69–70%**, reflecting the tradeoff between catching more positives and increased misclassifications.\n",
        "\n",
        "**Interpretation**  \n",
        "While each strategy balances the data differently—through reweighting, duplication, or reduction—the resulting models behave similarly: they become much more sensitive to the minority class but at the cost of precision. For use cases like our complaint response classification system—where identifying remediated complaints is essential to crafting appropriate replies—this tradeoff may be acceptable or even beneficial."
      ]
    },
    {
      "cell_type": "markdown",
      "source": [
        "### **Model Evaluation Summary**\n",
        "\n",
        "We evaluate five modeling strategies to classify consumer complaints as receiving **monetary remediation** (`1`) or **non-remediated** (`0`), where label `0` includes both “Closed with explanation” and “Closed with non-monetary relief.” The table below summarizes the results:\n",
        "\n",
        "| Model                                  | Accuracy | Precision (1) | Recall (1) | F1 Score (1) | Notes                                                |\n",
        "|----------------------------------------|----------|----------------|-------------|---------------|------------------------------------------------------|\n",
        "| Multinomial Naive Bayes                | 74.6%    | 37.2%          | 63.9%       | 47.0%         | High recall; moderate performance overall            |\n",
        "| Logistic Regression (Baseline)         | **83.5%**| **61.4%**      | 16.9%       | 26.6%         | High accuracy; fails to detect most positive cases   |\n",
        "| Logistic Regression + Class Weighting  | 69.7%    | 34.3%          | 78.5%       | **47.8%**     | Best F1 among all; strong recall                     |\n",
        "| Logistic Regression + SMOTE            | 69.9%    | 34.4%          | 77.7%       | 47.7%         | Very similar to class weighting                     |\n",
        "| Logistic Regression + Undersampling    | 69.1%    | 34.0%          | **79.7%**   | 47.7%         | Highest recall; slightly lower overall accuracy      |\n",
        "\n",
        "\n",
        "\n",
        "### Analysis\n",
        "\n",
        "- **Baseline Logistic Regression** achieves the highest accuracy but performs poorly on identifying remediated complaints, with a recall of only **16.9%**. This is inadequate for our use case, where detecting monetary relief cases is critical.\n",
        "- **Multinomial Naive Bayes** significantly improves recall (**63.9%**) without resampling, making it an effective baseline without added complexity. However, its precision remains relatively low.\n",
        "- All **three class imbalance strategies** applied to Logistic Regression (class weighting, SMOTE, under-sampling) **boost recall to ~78–80%**, substantially improving the model’s ability to detect remediated complaints.\n",
        "- Among them, **class-weighted Logistic Regression** achieves the **best F1 score (47.8%)**, offering a strong balance between precision and recall.\n",
        "\n",
        "\n",
        "\n",
        "### Conclusion\n",
        "\n",
        "Given the project’s primary goal—to **identify monetary remediation cases**—we prioritize **recall** and **balanced performance** over raw accuracy. Based on the evaluation:\n",
        "\n",
        "> We choose **Logistic Regression with class weighting** as the final baseline model.  \n",
        "> It delivers the best F1 score, competitive recall, and is efficient to train without requiring additional data manipulation such as SMOTE or undersampling."
      ],
      "metadata": {
        "id": "mb36MGFQ1tPp"
      }
    },
    {
      "cell_type": "markdown",
      "source": [
        "### ROC AUC Evaluation for Class-Weighted Logistic Regression"
      ],
      "metadata": {
        "id": "95_c7ki6pinr"
      }
    },
    {
      "cell_type": "code",
      "source": [
        "from sklearn.metrics import roc_auc_score, roc_curve\n",
        "import matplotlib.pyplot as plt\n",
        "\n",
        "# Get predicted probabilities for the positive class (label = 1)\n",
        "y_proba_bal = clf_bal.predict_proba(X_test_lr)[:, 1]\n",
        "\n",
        "# Compute ROC AUC score\n",
        "auc_score = roc_auc_score(y_test, y_proba_bal)\n",
        "print(\"ROC AUC Score:\", round(auc_score, 4))"
      ],
      "metadata": {
        "id": "1fyoKiEPRpmT",
        "colab": {
          "base_uri": "https://localhost:8080/"
        },
        "outputId": "0ccfdf01-2b17-4866-c35e-c2f20a8427bf"
      },
      "execution_count": 19,
      "outputs": [
        {
          "output_type": "stream",
          "name": "stdout",
          "text": [
            "ROC AUC Score: 0.8105\n"
          ]
        }
      ]
    }
  ],
  "metadata": {
    "kernelspec": {
      "display_name": "base",
      "language": "python",
      "name": "python3"
    },
    "language_info": {
      "codemirror_mode": {
        "name": "ipython",
        "version": 3
      },
      "file_extension": ".py",
      "mimetype": "text/x-python",
      "name": "python",
      "nbconvert_exporter": "python",
      "pygments_lexer": "ipython3",
      "version": "3.12.7"
    },
    "colab": {
      "provenance": []
    }
  },
  "nbformat": 4,
  "nbformat_minor": 0
}